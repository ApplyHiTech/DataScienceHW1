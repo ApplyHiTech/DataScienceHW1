{
 "cells": [
  {
   "cell_type": "code",
   "execution_count": 18,
   "metadata": {
    "collapsed": false
   },
   "outputs": [],
   "source": [
    "import findspark\n",
    "import pyspark\n",
    "import numpy as np\n",
    "import pyspark.sql.functions as sqlFunctions\n",
    "import matplotlib.pyplot as plt\n",
    "\n",
    "from operator import add\n",
    "from pyspark.sql import SQLContext\n",
    "\n",
    "%matplotlib inline"
   ]
  },
  {
   "cell_type": "code",
   "execution_count": 19,
   "metadata": {
    "collapsed": false
   },
   "outputs": [],
   "source": [
    "findspark.init()\n",
    "sc = pyspark.SparkContext()\n",
    "sqlContext = SQLContext(sc)"
   ]
  },
  {
   "cell_type": "code",
   "execution_count": 20,
   "metadata": {
    "collapsed": false
   },
   "outputs": [],
   "source": [
    "# Full original training set\n",
    "raw_full_train = sc.textFile(\"dac/train.txt\")\n",
    "\n",
    "# Final test set split\n",
    "raw_final_test = sc.textFile(\"dac/split/test.txt\")  # Do not touch during training\n",
    "\n",
    "# Training set splits\n",
    "raw_test_3m = sc.textFile(\"dac/split/test_3m.txt\")\n",
    "raw_train_5m = sc.textFile(\"dac/split/train_5m.txt\")\n",
    "raw_validation_2m = sc.textFile(\"dac/split/train_5m.txt\")\n",
    "\n",
    "# Debug set\n",
    "raw_small_train = sc.textFile(\"dac/small-train.txt\")"
   ]
  },
  {
   "cell_type": "code",
   "execution_count": 21,
   "metadata": {
    "collapsed": false
   },
   "outputs": [],
   "source": [
    "def convert_value(index, value):\n",
    "    if index < 14:\n",
    "        return int(value) if value else None\n",
    "    else:\n",
    "        return value if value else None\n",
    "\n",
    "def convert_line(line):\n",
    "    return [convert_value(i, value) for i, value in enumerate(line.split(\"\\t\"))]"
   ]
  },
  {
   "cell_type": "code",
   "execution_count": 22,
   "metadata": {
    "collapsed": false
   },
   "outputs": [],
   "source": [
    "# Change the data types of the datasets so that the RDD's include Int's and Strings. \n",
    "full_train = raw_full_train.map(convert_line)\n",
    "final_test = raw_final_test.map(convert_line)\n",
    "test_3m = raw_test_3m.map(convert_line)\n",
    "train_5m = raw_train_5m.map(convert_line)\n",
    "validation_2m = raw_validation_2m.map(convert_line)\n",
    "\n",
    "debug = raw_small_train.map(convert_line)"
   ]
  },
  {
   "cell_type": "code",
   "execution_count": 23,
   "metadata": {
    "collapsed": false
   },
   "outputs": [
    {
     "data": {
      "text/plain": [
       "([0, 1, 2], [77337, 22663])"
      ]
     },
     "execution_count": 23,
     "metadata": {},
     "output_type": "execute_result"
    }
   ],
   "source": [
    "# Label data histogram\n",
    "debug.map(lambda row: row[0]).histogram([0,1,2])"
   ]
  },
  {
   "cell_type": "code",
   "execution_count": 149,
   "metadata": {
    "collapsed": false
   },
   "outputs": [],
   "source": [
    "def int_column_histogram(col_num, col):\n",
    "    bins, counts = col.histogram(10)\n",
    "    total = sum(counts)    \n",
    "    print \"Column %d histogram\\n\\tBins=%s\\n\\tCounts=%s (total=%d)\" % (col_num, bins, counts, total)\n",
    "    # TODO: display graph of histogram\n",
    "    # TODO: better buckets for histogram (smart sub-dividing)\n",
    "        #sum the counts\n",
    "        #max of the counts\n",
    "        #if  > 25%\n",
    "    return bins,counts\n",
    "\n",
    "def int_columns_histograms(data):\n",
    "    bins=[]; counts=[]\n",
    "    for i, col in enumerate(column_iter(debug)):\n",
    "        col_num = i + 1\n",
    "        if is_integer_col_num(col_num):\n",
    "            bins1,counts1 = int_column_histogram(col_num, col)\n",
    "            bins.append(bins1) #bin values\n",
    "            counts.append(counts1) #count inside bins\n",
    "            \n",
    "    return bins,counts\n",
    "\n",
    "def bin_range_labels(bins):\n",
    "    #Nicely display these. \n",
    "    return [\"%s---%s\" % (\"{:.1e}\".format((bins[i])),\"{:.2E}\".format((bins[i+1]))) for i in range(len(bins) - 1)]\n",
    "\n",
    "#def bin_range_labels(bins):\n",
    "    #Nicely display these. \n",
    "#   return [\"%s---%s\" % (bins[i], bins[i + 1]) for i in range(len(bins) - 1)]"
   ]
  },
  {
   "cell_type": "code",
   "execution_count": 130,
   "metadata": {
    "collapsed": false
   },
   "outputs": [],
   "source": [
    "def get_column_num(data, col_num):\n",
    "    return data.map(lambda row: row[col_num])\n",
    "\n",
    "def column_filter_null(column):\n",
    "    return column.filter(lambda row: row is not None)\n",
    "\n",
    "def column_count(data):\n",
    "    return len(data.take(1)[0])\n",
    "\n",
    "def is_integer_col_num(col_num):\n",
    "    return col_num > 1 and col_num < 15\n",
    "\n",
    "def is_label_col_num(col_num):\n",
    "    return col_num == 1\n",
    "\n",
    "def is_categorical_col_num(col_num):\n",
    "    return col_num > 15\n",
    "\n",
    "def column_iter(data):\n",
    "    for i in range(column_count(data)):\n",
    "         yield get_column_num(data, i)"
   ]
  },
  {
   "cell_type": "code",
   "execution_count": 104,
   "metadata": {
    "collapsed": false
   },
   "outputs": [],
   "source": [
    "def cat_columns_histogram(data):\n",
    "    for i, col in enumerate(column_iter(debug)):\n",
    "        col_num = i + 1\n",
    "        if is_categorical_col_num(col_num):\n",
    "            key_counts = col.map(lambda key: (key, 1)).reduceByKey(add)\n",
    "            sorted_counts = sorted(key_counts.collect(), key=lambda t: t[1], reverse=True)\n",
    "            labels = [v[0] for v in sorted_counts]\n",
    "            counts = [v[1] for v in sorted_counts]\n",
    "            # TODO: graph these counts\n",
    "            # TODO: truncate at something larger than 5\n",
    "            print labels[:10], counts[:10], \"Remaining\", sum(counts[10:])\n",
    "            \n",
    "            return labels[:10],counts[:10],sum(counts[10:])"
   ]
  },
  {
   "cell_type": "code",
   "execution_count": 101,
   "metadata": {
    "collapsed": false
   },
   "outputs": [
    {
     "name": "stdout",
     "output_type": "stream",
     "text": [
      "Column 2 histogram\n",
      "\tBins=[0.0, 55.6, 111.2, 166.8, 222.4, 278.0, 333.6, 389.2, 444.8, 500.40000000000003, 556]\n",
      "\tCounts=[55236, 295, 34, 10, 5, 3, 2, 0, 1, 1] (total=55587)\n",
      "Column 3 histogram\n",
      "\tBins=[-2.0, 1850.4, 3702.8, 5555.200000000001, 7407.6, 9260.0, 11112.400000000001, 12964.800000000001, 14817.2, 16669.600000000002, 18522]\n",
      "\tCounts=[98530, 1397, 52, 12, 7, 0, 1, 0, 0, 1] (total=100000)\n",
      "Column 4 histogram\n",
      "\tBins=[0.0, 6553.5, 13107.0, 19660.5, 26214.0, 32767.5, 39321.0, 45874.5, 52428.0, 58981.5, 65535]\n",
      "\tCounts=[80863, 11, 1, 20, 0, 0, 0, 0, 1, 2] (total=80898)\n",
      "Column 5 histogram\n",
      "\tBins=[0.0, 41.7, 83.4, 125.10000000000001, 166.8, 208.5, 250.20000000000002, 291.90000000000003, 333.6, 375.3, 417]\n",
      "\tCounts=[79210, 1178, 44, 8, 12, 6, 5, 0, 0, 3] (total=80466)\n",
      "Column 6 histogram\n",
      "\tBins=[0.0, 174112.8, 348225.6, 522338.39999999997, 696451.2, 870564.0, 1044676.7999999999, 1218789.5999999999, 1392902.4, 1567015.2, 1741128]\n",
      "\tCounts=[93216, 1145, 491, 218, 88, 44, 19, 11, 5, 3] (total=95240)\n",
      "Column 7 histogram\n",
      "\tBins=[0, 1629, 3258, 4887, 6516, 8145, 9774, 11403, 13032, 14661, 16290]\n",
      "\tCounts=[74200, 536, 92, 36, 12, 10, 3, 1, 1, 2] (total=74893)\n",
      "Column 8 histogram\n",
      "\tBins=[0.0, 880.7, 1761.4, 2642.1000000000004, 3522.8, 4403.5, 5284.200000000001, 6164.900000000001, 7045.6, 7926.3, 8807]\n",
      "\tCounts=[95218, 51, 8, 2, 0, 0, 1, 0, 0, 1] (total=95281)\n",
      "Column 9 histogram\n",
      "\tBins=[0.0, 467.7, 935.4, 1403.1, 1870.8, 2338.5, 2806.2, 3273.9, 3741.6, 4209.3, 4677]\n",
      "\tCounts=[99864, 11, 0, 0, 4, 4, 3, 1, 3, 3] (total=99893)\n",
      "Column 10 histogram\n",
      "\tBins=[0.0, 1266.1, 2532.2, 3798.2999999999997, 5064.4, 6330.5, 7596.599999999999, 8862.699999999999, 10128.8, 11394.9, 12661]\n",
      "\tCounts=[94344, 735, 144, 30, 12, 13, 1, 1, 0, 1] (total=95281)\n",
      "Column 11 histogram\n",
      "\tBins=[0.0, 0.6, 1.2, 1.7999999999999998, 2.4, 3.0, 3.5999999999999996, 4.2, 4.8, 5.3999999999999995, 6]\n",
      "\tCounts=[26171, 25277, 0, 3409, 0, 580, 119, 0, 27, 4] (total=55587)\n",
      "Column 12 histogram\n",
      "\tBins=[0.0, 10.4, 20.8, 31.200000000000003, 41.6, 52.0, 62.400000000000006, 72.8, 83.2, 93.60000000000001, 104]\n",
      "\tCounts=[91416, 2696, 765, 203, 82, 68, 26, 15, 4, 6] (total=95281)\n",
      "Column 13 histogram\n",
      "\tBins=[0.0, 49.3, 98.6, 147.89999999999998, 197.2, 246.5, 295.79999999999995, 345.09999999999997, 394.4, 443.7, 493]\n",
      "\tCounts=[22793, 21, 3, 2, 0, 0, 0, 0, 0, 1] (total=22820)\n",
      "Column 14 histogram\n",
      "\tBins=[0.0, 655.8, 1311.6, 1967.3999999999999, 2623.2, 3279.0, 3934.7999999999997, 4590.599999999999, 5246.4, 5902.2, 6558]\n",
      "\tCounts=[80441, 6, 5, 5, 3, 2, 3, 0, 0, 1] (total=80466)\n"
     ]
    }
   ],
   "source": [
    "\n",
    "\n",
    "x,y = int_columns_histograms(debug)"
   ]
  },
  {
   "cell_type": "code",
   "execution_count": 144,
   "metadata": {
    "collapsed": false,
    "scrolled": true
   },
   "outputs": [],
   "source": [
    "# This represents the Histograms for Category Features. \n",
    "# For Integer Feature we do not compute \"Other Values\"\n",
    "# \n",
    "# x_values = 1D array of the x_values {bins OR category names}\n",
    "# y_values = 1D array of the y_values {counts of uniques in bins or category name}\n",
    "# isCategory = True if feature is category. \n",
    "#            = False if feature is integer.\n",
    "# Z_other_values = sum of the counts of the remaining categories for category feature.\n",
    "#\n",
    "#\n",
    "def disp_Histogram(x_values,y_values,isCategory, column_numb,z_other_value=0):\n",
    "        x1 = np.array([0,1,2,3,4,5,6,7,8,9])\n",
    "        x2 = []\n",
    "        \n",
    "        if (isCategory):\n",
    "            type_of_feature = \"Category\"\n",
    "            x_label = \"Category as a Hashed value\"\n",
    "            #Add Other column\n",
    "            for i in x_values: \n",
    "                x2.append(str(i))\n",
    "            x1 = np.append(x1,10)\n",
    "            x2.append('Other')\n",
    "            y.append(z_other_value)\n",
    "\n",
    "        else: \n",
    "            type_of_feature = \"Integer\"\n",
    "            x_label = \"Bins of Integer values\"\n",
    "            x2 = bin_range_labels(x_values)\n",
    "\n",
    "        \n",
    "        plt.title('%s Feature %s Histogram' % (type_of_feature,column_numb))\n",
    "        plt.ylabel('Count of values')\n",
    "        plt.xlabel('The %s' % x_label)\n",
    "        print (\"X: %s, Y: %s\" % (x1,y_values))\n",
    "        plt.xticks(x1, x2,rotation=45)\n",
    "        plt.bar(x1, y_values,log=True)\n",
    "        plt.show()\n",
    "\n",
    "    "
   ]
  },
  {
   "cell_type": "code",
   "execution_count": 162,
   "metadata": {
    "collapsed": false
   },
   "outputs": [
    {
     "name": "stdout",
     "output_type": "stream",
     "text": [
      "X: [0 1 2 3 4 5 6 7 8 9], Y: [93216, 1145, 491, 218, 88, 44, 19, 11, 5, 3]\n"
     ]
    },
    {
     "data": {
      "image/png": "[encoded data removed]",
      "text/plain": [
       "<matplotlib.figure.Figure at 0x107aa6f90>"
      ]
     },
     "metadata": {},
     "output_type": "display_data"
    }
   ],
   "source": [
    "# Display \n",
    "#print y[0]\n",
    "column=4\n",
    "disp_Histogram(x[column],y[column],False,column)"
   ]
  },
  {
   "cell_type": "code",
   "execution_count": 108,
   "metadata": {
    "collapsed": false,
    "scrolled": true
   },
   "outputs": [
    {
     "name": "stdout",
     "output_type": "stream",
     "text": [
      "Column 2 histogram\n",
      "\tBins=[0.0, 55.6, 111.2, 166.8, 222.4, 278.0, 333.6, 389.2, 444.8, 500.40000000000003, 556]\n",
      "\tCounts=[55236, 295, 34, 10, 5, 3, 2, 0, 1, 1] (total=55587)\n",
      "Column 3 histogram\n",
      "\tBins=[-2.0, 1850.4, 3702.8, 5555.200000000001, 7407.6, 9260.0, 11112.400000000001, 12964.800000000001, 14817.2, 16669.600000000002, 18522]\n",
      "\tCounts=[98530, 1397, 52, 12, 7, 0, 1, 0, 0, 1] (total=100000)\n",
      "Column 4 histogram\n",
      "\tBins=[0.0, 6553.5, 13107.0, 19660.5, 26214.0, 32767.5, 39321.0, 45874.5, 52428.0, 58981.5, 65535]\n",
      "\tCounts=[80863, 11, 1, 20, 0, 0, 0, 0, 1, 2] (total=80898)\n",
      "Column 5 histogram\n",
      "\tBins=[0.0, 41.7, 83.4, 125.10000000000001, 166.8, 208.5, 250.20000000000002, 291.90000000000003, 333.6, 375.3, 417]\n",
      "\tCounts=[79210, 1178, 44, 8, 12, 6, 5, 0, 0, 3] (total=80466)\n",
      "Column 6 histogram\n",
      "\tBins=[0.0, 174112.8, 348225.6, 522338.39999999997, 696451.2, 870564.0, 1044676.7999999999, 1218789.5999999999, 1392902.4, 1567015.2, 1741128]\n",
      "\tCounts=[93216, 1145, 491, 218, 88, 44, 19, 11, 5, 3] (total=95240)\n",
      "Column 7 histogram\n",
      "\tBins=[0, 1629, 3258, 4887, 6516, 8145, 9774, 11403, 13032, 14661, 16290]\n",
      "\tCounts=[74200, 536, 92, 36, 12, 10, 3, 1, 1, 2] (total=74893)\n",
      "Column 8 histogram\n",
      "\tBins=[0.0, 880.7, 1761.4, 2642.1000000000004, 3522.8, 4403.5, 5284.200000000001, 6164.900000000001, 7045.6, 7926.3, 8807]\n",
      "\tCounts=[95218, 51, 8, 2, 0, 0, 1, 0, 0, 1] (total=95281)\n",
      "Column 9 histogram\n",
      "\tBins=[0.0, 467.7, 935.4, 1403.1, 1870.8, 2338.5, 2806.2, 3273.9, 3741.6, 4209.3, 4677]\n",
      "\tCounts=[99864, 11, 0, 0, 4, 4, 3, 1, 3, 3] (total=99893)\n",
      "Column 10 histogram\n",
      "\tBins=[0.0, 1266.1, 2532.2, 3798.2999999999997, 5064.4, 6330.5, 7596.599999999999, 8862.699999999999, 10128.8, 11394.9, 12661]\n",
      "\tCounts=[94344, 735, 144, 30, 12, 13, 1, 1, 0, 1] (total=95281)\n",
      "Column 11 histogram\n",
      "\tBins=[0.0, 0.6, 1.2, 1.7999999999999998, 2.4, 3.0, 3.5999999999999996, 4.2, 4.8, 5.3999999999999995, 6]\n",
      "\tCounts=[26171, 25277, 0, 3409, 0, 580, 119, 0, 27, 4] (total=55587)\n",
      "Column 12 histogram\n",
      "\tBins=[0.0, 10.4, 20.8, 31.200000000000003, 41.6, 52.0, 62.400000000000006, 72.8, 83.2, 93.60000000000001, 104]\n",
      "\tCounts=[91416, 2696, 765, 203, 82, 68, 26, 15, 4, 6] (total=95281)\n",
      "Column 13 histogram\n",
      "\tBins=[0.0, 49.3, 98.6, 147.89999999999998, 197.2, 246.5, 295.79999999999995, 345.09999999999997, 394.4, 443.7, 493]\n",
      "\tCounts=[22793, 21, 3, 2, 0, 0, 0, 0, 0, 1] (total=22820)\n",
      "Column 14 histogram\n",
      "\tBins=[0.0, 655.8, 1311.6, 1967.3999999999999, 2623.2, 3279.0, 3934.7999999999997, 4590.599999999999, 5246.4, 5902.2, 6558]\n",
      "\tCounts=[80441, 6, 5, 5, 3, 2, 3, 0, 0, 1] (total=80466)\n",
      "X: [0 1 2 3 4 5 6 7 8 9], Y: [[55236, 295, 34, 10, 5, 3, 2, 0, 1, 1], [98530, 1397, 52, 12, 7, 0, 1, 0, 0, 1], [80863, 11, 1, 20, 0, 0, 0, 0, 1, 2], [79210, 1178, 44, 8, 12, 6, 5, 0, 0, 3], [93216, 1145, 491, 218, 88, 44, 19, 11, 5, 3], [74200, 536, 92, 36, 12, 10, 3, 1, 1, 2], [95218, 51, 8, 2, 0, 0, 1, 0, 0, 1], [99864, 11, 0, 0, 4, 4, 3, 1, 3, 3], [94344, 735, 144, 30, 12, 13, 1, 1, 0, 1], [26171, 25277, 0, 3409, 0, 580, 119, 0, 27, 4], [91416, 2696, 765, 203, 82, 68, 26, 15, 4, 6], [22793, 21, 3, 2, 0, 0, 0, 0, 0, 1], [80441, 6, 5, 5, 3, 2, 3, 0, 0, 1]]\n"
     ]
    },
    {
     "ename": "AssertionError",
     "evalue": "incompatible sizes: argument 'height' must be length 10 or scalar",
     "output_type": "error",
     "traceback": [
      "\u001b[0;31m---------------------------------------------------------------------------\u001b[0m",
      "\u001b[0;31mAssertionError\u001b[0m                            Traceback (most recent call last)",
      "\u001b[0;32m<ipython-input-108-0ab89cf54543>\u001b[0m in \u001b[0;36m<module>\u001b[0;34m()\u001b[0m\n\u001b[1;32m      3\u001b[0m \u001b[0mx\u001b[0m\u001b[0;34m,\u001b[0m\u001b[0my\u001b[0m \u001b[0;34m=\u001b[0m \u001b[0mint_columns_histograms\u001b[0m\u001b[0;34m(\u001b[0m\u001b[0mdebug\u001b[0m\u001b[0;34m)\u001b[0m\u001b[0;34m\u001b[0m\u001b[0m\n\u001b[1;32m      4\u001b[0m \u001b[0;31m# Display\u001b[0m\u001b[0;34m\u001b[0m\u001b[0;34m\u001b[0m\u001b[0m\n\u001b[0;32m----> 5\u001b[0;31m \u001b[0mdisp_Histogram\u001b[0m\u001b[0;34m(\u001b[0m\u001b[0mx\u001b[0m\u001b[0;34m[\u001b[0m\u001b[0;36m0\u001b[0m\u001b[0;34m]\u001b[0m\u001b[0;34m,\u001b[0m\u001b[0my\u001b[0m\u001b[0;34m[\u001b[0m\u001b[0;36m0\u001b[0m\u001b[0;34m]\u001b[0m\u001b[0;34m,\u001b[0m\u001b[0mFalse\u001b[0m\u001b[0;34m,\u001b[0m\u001b[0;36m3\u001b[0m\u001b[0;34m)\u001b[0m\u001b[0;34m\u001b[0m\u001b[0m\n\u001b[0m\u001b[1;32m      6\u001b[0m \u001b[0;31m#cat_columns_histogram(debug)\u001b[0m\u001b[0;34m\u001b[0m\u001b[0;34m\u001b[0m\u001b[0m\n",
      "\u001b[0;32m<ipython-input-106-6e2fc1af6391>\u001b[0m in \u001b[0;36mdisp_Histogram\u001b[0;34m(x_values, y_values, isCategory, column_numb, z_other_value)\u001b[0m\n\u001b[1;32m     35\u001b[0m         \u001b[0;32mprint\u001b[0m \u001b[0;34m(\u001b[0m\u001b[0;34m\"X: %s, Y: %s\"\u001b[0m \u001b[0;34m%\u001b[0m \u001b[0;34m(\u001b[0m\u001b[0mx1\u001b[0m\u001b[0;34m,\u001b[0m\u001b[0my\u001b[0m\u001b[0;34m)\u001b[0m\u001b[0;34m)\u001b[0m\u001b[0;34m\u001b[0m\u001b[0m\n\u001b[1;32m     36\u001b[0m         \u001b[0mplt\u001b[0m\u001b[0;34m.\u001b[0m\u001b[0mxticks\u001b[0m\u001b[0;34m(\u001b[0m\u001b[0mx1\u001b[0m\u001b[0;34m,\u001b[0m \u001b[0mx2\u001b[0m\u001b[0;34m,\u001b[0m\u001b[0mrotation\u001b[0m\u001b[0;34m=\u001b[0m\u001b[0;36m45\u001b[0m\u001b[0;34m)\u001b[0m\u001b[0;34m\u001b[0m\u001b[0m\n\u001b[0;32m---> 37\u001b[0;31m         \u001b[0mplt\u001b[0m\u001b[0;34m.\u001b[0m\u001b[0mbar\u001b[0m\u001b[0;34m(\u001b[0m\u001b[0mx1\u001b[0m\u001b[0;34m,\u001b[0m \u001b[0my\u001b[0m\u001b[0;34m)\u001b[0m\u001b[0;34m\u001b[0m\u001b[0m\n\u001b[0m\u001b[1;32m     38\u001b[0m         \u001b[0mplt\u001b[0m\u001b[0;34m.\u001b[0m\u001b[0mshow\u001b[0m\u001b[0;34m(\u001b[0m\u001b[0;34m)\u001b[0m\u001b[0;34m\u001b[0m\u001b[0m\n\u001b[1;32m     39\u001b[0m \u001b[0;34m\u001b[0m\u001b[0m\n",
      "\u001b[0;32m/Users/danielreidler/anaconda/lib/python2.7/site-packages/matplotlib/pyplot.pyc\u001b[0m in \u001b[0;36mbar\u001b[0;34m(left, height, width, bottom, hold, **kwargs)\u001b[0m\n\u001b[1;32m   2571\u001b[0m         \u001b[0max\u001b[0m\u001b[0;34m.\u001b[0m\u001b[0mhold\u001b[0m\u001b[0;34m(\u001b[0m\u001b[0mhold\u001b[0m\u001b[0;34m)\u001b[0m\u001b[0;34m\u001b[0m\u001b[0m\n\u001b[1;32m   2572\u001b[0m     \u001b[0;32mtry\u001b[0m\u001b[0;34m:\u001b[0m\u001b[0;34m\u001b[0m\u001b[0m\n\u001b[0;32m-> 2573\u001b[0;31m         \u001b[0mret\u001b[0m \u001b[0;34m=\u001b[0m \u001b[0max\u001b[0m\u001b[0;34m.\u001b[0m\u001b[0mbar\u001b[0m\u001b[0;34m(\u001b[0m\u001b[0mleft\u001b[0m\u001b[0;34m,\u001b[0m \u001b[0mheight\u001b[0m\u001b[0;34m,\u001b[0m \u001b[0mwidth\u001b[0m\u001b[0;34m=\u001b[0m\u001b[0mwidth\u001b[0m\u001b[0;34m,\u001b[0m \u001b[0mbottom\u001b[0m\u001b[0;34m=\u001b[0m\u001b[0mbottom\u001b[0m\u001b[0;34m,\u001b[0m \u001b[0;34m**\u001b[0m\u001b[0mkwargs\u001b[0m\u001b[0;34m)\u001b[0m\u001b[0;34m\u001b[0m\u001b[0m\n\u001b[0m\u001b[1;32m   2574\u001b[0m         \u001b[0mdraw_if_interactive\u001b[0m\u001b[0;34m(\u001b[0m\u001b[0;34m)\u001b[0m\u001b[0;34m\u001b[0m\u001b[0m\n\u001b[1;32m   2575\u001b[0m     \u001b[0;32mfinally\u001b[0m\u001b[0;34m:\u001b[0m\u001b[0;34m\u001b[0m\u001b[0m\n",
      "\u001b[0;32m/Users/danielreidler/anaconda/lib/python2.7/site-packages/matplotlib/axes/_axes.pyc\u001b[0m in \u001b[0;36mbar\u001b[0;34m(self, left, height, width, bottom, **kwargs)\u001b[0m\n\u001b[1;32m   1989\u001b[0m         assert len(height) == nbars, (\"incompatible sizes: argument 'height' \"\n\u001b[1;32m   1990\u001b[0m                                       \u001b[0;34m\"must be length %d or scalar\"\u001b[0m \u001b[0;34m%\u001b[0m\u001b[0;34m\u001b[0m\u001b[0m\n\u001b[0;32m-> 1991\u001b[0;31m                                       nbars)\n\u001b[0m\u001b[1;32m   1992\u001b[0m         assert len(width) == nbars, (\"incompatible sizes: argument 'width' \"\n\u001b[1;32m   1993\u001b[0m                                      \u001b[0;34m\"must be length %d or scalar\"\u001b[0m \u001b[0;34m%\u001b[0m\u001b[0;34m\u001b[0m\u001b[0m\n",
      "\u001b[0;31mAssertionError\u001b[0m: incompatible sizes: argument 'height' must be length 10 or scalar"
     ]
    },
    {
     "data": {
      "image/png": "[encoded data removed]",
      "text/plain": [
       "<matplotlib.figure.Figure at 0x107510790>"
      ]
     },
     "metadata": {},
     "output_type": "display_data"
    }
   ],
   "source": [
    "#Category_columns_histograms(debug)\n",
    "#x1,y1,z1 = cat_columns_histogram(debug)\n",
    "x,y = int_columns_histograms(debug)\n",
    "\n",
    "#cat_columns_histogram(debug)"
   ]
  },
  {
   "cell_type": "code",
   "execution_count": 31,
   "metadata": {
    "collapsed": false
   },
   "outputs": [
    {
     "name": "stdout",
     "output_type": "stream",
     "text": [
      "Column # 2: Mean=3.769      Stdev=10.451     Variance=109.228   \n",
      "Column # 3: Mean=112.864    Stdev=401.523    Variance=161220.427\n",
      "Column # 4: Mean=40.745     Stdev=538.819    Variance=290325.723\n",
      "Column # 5: Mean=8.280      Stdev=10.836     Variance=117.426   \n",
      "Column # 6: Mean=17592.599  Stdev=65797.898  Variance=4329363390.243\n",
      "Column # 7: Mean=139.685    Stdev=371.776    Variance=138217.462\n",
      "Column # 8: Mean=15.222     Stdev=65.460     Variance=4285.075  \n",
      "Column # 9: Mean=13.575     Stdev=46.542     Variance=2166.120  \n",
      "Column #10: Mean=125.295    Stdev=286.416    Variance=82033.945 \n",
      "Column #11: Mean=0.620      Stdev=0.677      Variance=0.458     \n",
      "Column #12: Mean=2.400      Stdev=4.630      Variance=21.436    \n",
      "Column #13: Mean=0.938      Stdev=5.328      Variance=28.384    \n",
      "Column #14: Mean=11.608     Stdev=52.045     Variance=2708.636  \n"
     ]
    }
   ],
   "source": [
    "int_columns_basic_summary_stats(debug)"
   ]
  },
  {
   "cell_type": "code",
   "execution_count": 32,
   "metadata": {
    "collapsed": true
   },
   "outputs": [],
   "source": [
    "def print_column_summary_details(col_num, kurtosis, skewness):\n",
    "    print(\"Column #%2d: Kurtosis=%-10.3f Skewness=%-10.3f\" % (col_num, kurtosis, skewness))\n",
    "\n",
    "def int_columns_detail_stats(data):\n",
    "    df = sqlContext.createDataFrame(data)\n",
    "    for i, col in enumerate(column_iter(data)):\n",
    "        col_num = i + 1\n",
    "        if is_integer_col_num(col_num):            \n",
    "            col = df[\"_%s\" % col_num]\n",
    "            k_col = sqlFunctions.kurtosis(col)\n",
    "            k_result = df.select(k_col.alias(\"kurtosis\")).collect()[0]\n",
    "            s_col = sqlFunctions.skewness(col)\n",
    "            s_result = df.select(s_col.alias(\"skewness\")).collect()[0]\n",
    "            print_column_summary_details(col_num, k_result.kurtosis, s_result.skewness)"
   ]
  },
  {
   "cell_type": "code",
   "execution_count": 33,
   "metadata": {
    "collapsed": false
   },
   "outputs": [
    {
     "name": "stdout",
     "output_type": "stream",
     "text": [
      "Column # 2: Kurtosis=373.759    Skewness=13.045    \n",
      "Column # 3: Kurtosis=100.708    Skewness=7.264     \n",
      "Column # 4: Kurtosis=7426.228   Skewness=74.676    \n",
      "Column # 5: Kurtosis=115.569    Skewness=5.891     \n",
      "Column # 6: Kurtosis=115.043    Skewness=9.146     \n",
      "Column # 7: Kurtosis=251.298    Skewness=11.409    \n",
      "Column # 8: Kurtosis=4233.619   Skewness=42.413    \n",
      "Column # 9: Kurtosis=5577.523   Skewness=68.854    \n",
      "Column #10: Kurtosis=163.166    Skewness=9.010     \n",
      "Column #11: Kurtosis=2.495      Skewness=1.125     \n",
      "Column #12: Kurtosis=66.442     Skewness=6.399     \n",
      "Column #13: Kurtosis=3362.307   Skewness=42.705    \n",
      "Column #14: Kurtosis=5899.185   Skewness=67.003    \n"
     ]
    }
   ],
   "source": [
    "int_columns_detail_stats(debug)"
   ]
  },
  {
   "cell_type": "code",
   "execution_count": 34,
   "metadata": {
    "collapsed": false
   },
   "outputs": [
    {
     "name": "stdout",
     "output_type": "stream",
     "text": [
      "Column 2 histogram\n",
      "\tBins=[0.0, 55.6, 111.2, 166.8, 222.4, 278.0, 333.6, 389.2, 444.8, 500.40000000000003, 556]\n",
      "\tCounts=[55236, 295, 34, 10, 5, 3, 2, 0, 1, 1] (total=55587)\n",
      "Column 3 histogram\n",
      "\tBins=[-2.0, 1850.4, 3702.8, 5555.200000000001, 7407.6, 9260.0, 11112.400000000001, 12964.800000000001, 14817.2, 16669.600000000002, 18522]\n",
      "\tCounts=[98530, 1397, 52, 12, 7, 0, 1, 0, 0, 1] (total=100000)\n",
      "Column 4 histogram\n",
      "\tBins=[0.0, 6553.5, 13107.0, 19660.5, 26214.0, 32767.5, 39321.0, 45874.5, 52428.0, 58981.5, 65535]\n",
      "\tCounts=[80863, 11, 1, 20, 0, 0, 0, 0, 1, 2] (total=80898)\n",
      "Column 5 histogram\n",
      "\tBins=[0.0, 41.7, 83.4, 125.10000000000001, 166.8, 208.5, 250.20000000000002, 291.90000000000003, 333.6, 375.3, 417]\n",
      "\tCounts=[79210, 1178, 44, 8, 12, 6, 5, 0, 0, 3] (total=80466)\n",
      "Column 6 histogram\n",
      "\tBins=[0.0, 174112.8, 348225.6, 522338.39999999997, 696451.2, 870564.0, 1044676.7999999999, 1218789.5999999999, 1392902.4, 1567015.2, 1741128]\n",
      "\tCounts=[93216, 1145, 491, 218, 88, 44, 19, 11, 5, 3] (total=95240)\n",
      "Column 7 histogram\n",
      "\tBins=[0, 1629, 3258, 4887, 6516, 8145, 9774, 11403, 13032, 14661, 16290]\n",
      "\tCounts=[74200, 536, 92, 36, 12, 10, 3, 1, 1, 2] (total=74893)\n",
      "Column 8 histogram\n",
      "\tBins=[0.0, 880.7, 1761.4, 2642.1000000000004, 3522.8, 4403.5, 5284.200000000001, 6164.900000000001, 7045.6, 7926.3, 8807]\n",
      "\tCounts=[95218, 51, 8, 2, 0, 0, 1, 0, 0, 1] (total=95281)\n",
      "Column 9 histogram\n",
      "\tBins=[0.0, 467.7, 935.4, 1403.1, 1870.8, 2338.5, 2806.2, 3273.9, 3741.6, 4209.3, 4677]\n",
      "\tCounts=[99864, 11, 0, 0, 4, 4, 3, 1, 3, 3] (total=99893)\n",
      "Column 10 histogram\n",
      "\tBins=[0.0, 1266.1, 2532.2, 3798.2999999999997, 5064.4, 6330.5, 7596.599999999999, 8862.699999999999, 10128.8, 11394.9, 12661]\n",
      "\tCounts=[94344, 735, 144, 30, 12, 13, 1, 1, 0, 1] (total=95281)\n",
      "Column 11 histogram\n",
      "\tBins=[0.0, 0.6, 1.2, 1.7999999999999998, 2.4, 3.0, 3.5999999999999996, 4.2, 4.8, 5.3999999999999995, 6]\n",
      "\tCounts=[26171, 25277, 0, 3409, 0, 580, 119, 0, 27, 4] (total=55587)\n",
      "Column 12 histogram\n",
      "\tBins=[0.0, 10.4, 20.8, 31.200000000000003, 41.6, 52.0, 62.400000000000006, 72.8, 83.2, 93.60000000000001, 104]\n",
      "\tCounts=[91416, 2696, 765, 203, 82, 68, 26, 15, 4, 6] (total=95281)\n",
      "Column 13 histogram\n",
      "\tBins=[0.0, 49.3, 98.6, 147.89999999999998, 197.2, 246.5, 295.79999999999995, 345.09999999999997, 394.4, 443.7, 493]\n",
      "\tCounts=[22793, 21, 3, 2, 0, 0, 0, 0, 0, 1] (total=22820)\n",
      "Column 14 histogram\n",
      "\tBins=[0.0, 655.8, 1311.6, 1967.3999999999999, 2623.2, 3279.0, 3934.7999999999997, 4590.599999999999, 5246.4, 5902.2, 6558]\n",
      "\tCounts=[80441, 6, 5, 5, 3, 2, 3, 0, 0, 1] (total=80466)\n"
     ]
    }
   ],
   "source": [
    "a = int_columns_histograms(debug)"
   ]
  }
 ],
 "metadata": {
  "kernelspec": {
   "display_name": "Python 2",
   "language": "python",
   "name": "python2"
  },
  "language_info": {
   "codemirror_mode": {
    "name": "ipython",
    "version": 2
   },
   "file_extension": ".py",
   "mimetype": "text/x-python",
   "name": "python",
   "nbconvert_exporter": "python",
   "pygments_lexer": "ipython2",
   "version": "2.7.10"
  }
 },
 "nbformat": 4,
 "nbformat_minor": 0
}
