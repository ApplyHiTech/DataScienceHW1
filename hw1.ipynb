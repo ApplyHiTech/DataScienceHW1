{
 "cells": [
  {
   "cell_type": "code",
   "execution_count": 44,
   "metadata": {
    "collapsed": false
   },
   "outputs": [],
   "source": [
    "import findspark\n",
    "import pyspark\n",
    "import numpy as np\n",
    "import pyspark.sql.functions as sqlFunctions\n",
    "import matplotlib.pyplot as plt\n",
    "\n",
    "from operator import add\n",
    "from pyspark.sql import SQLContext\n",
    "\n",
    "%matplotlib inline"
   ]
  },
  {
   "cell_type": "code",
   "execution_count": 18,
   "metadata": {
    "collapsed": false
   },
   "outputs": [],
   "source": [
    "findspark.init()\n",
    "sc = pyspark.SparkContext()\n",
    "sqlContext = SQLContext(sc)"
   ]
  },
  {
   "cell_type": "code",
   "execution_count": 19,
   "metadata": {
    "collapsed": false
   },
   "outputs": [],
   "source": [
    "# Full original training set\n",
    "raw_full_train = sc.textFile(\"dac/train.txt\")\n",
    "\n",
    "# Final test set split\n",
    "raw_final_test = sc.textFile(\"dac/split/test.txt\")  # Do not touch during training\n",
    "\n",
    "# Training set splits\n",
    "raw_test_3m = sc.textFile(\"dac/split/test_3m.txt\")\n",
    "raw_train_5m = sc.textFile(\"dac/split/train_5m.txt\")\n",
    "raw_validation_2m = sc.textFile(\"dac/split/train_5m.txt\")\n",
    "\n",
    "# Debug set\n",
    "raw_small_train = sc.textFile(\"dac/small-train.txt\")"
   ]
  },
  {
   "cell_type": "code",
   "execution_count": 20,
   "metadata": {
    "collapsed": false
   },
   "outputs": [],
   "source": [
    "def convert_value(index, value):\n",
    "    if index < 14:\n",
    "        return int(value) if value else None\n",
    "    else:\n",
    "        return value if value else None\n",
    "\n",
    "def convert_line(line):\n",
    "    return [convert_value(i, value) for i, value in enumerate(line.split(\"\\t\"))]"
   ]
  },
  {
   "cell_type": "code",
   "execution_count": 21,
   "metadata": {
    "collapsed": false
   },
   "outputs": [],
   "source": [
    "# Change the data types of the datasets so that the RDD's include Int's and Strings. \n",
    "full_train = raw_full_train.map(convert_line)\n",
    "final_test = raw_final_test.map(convert_line)\n",
    "test_3m = raw_test_3m.map(convert_line)\n",
    "train_5m = raw_train_5m.map(convert_line)\n",
    "validation_2m = raw_validation_2m.map(convert_line)\n",
    "\n",
    "debug = raw_small_train.map(convert_line)"
   ]
  },
  {
   "cell_type": "code",
   "execution_count": 22,
   "metadata": {
    "collapsed": false
   },
   "outputs": [
    {
     "data": {
      "text/plain": [
       "([0, 1, 2], [77337, 22663])"
      ]
     },
     "execution_count": 22,
     "metadata": {},
     "output_type": "execute_result"
    }
   ],
   "source": [
    "# Label data histogram\n",
    "debug.map(lambda row: row[0]).histogram([0,1,2])"
   ]
  },
  {
   "cell_type": "code",
   "execution_count": 116,
   "metadata": {
    "collapsed": true
   },
   "outputs": [],
   "source": [
    "def int_column_histogram(col_num, col):\n",
    "    bins, counts = col.histogram(10)\n",
    "    total = sum(counts)    \n",
    "    print \"Column %d histogram\\n\\tBins=%s\\n\\tCounts=%s (total=%d)\" % (col_num, bins, counts, total)\n",
    "    # TODO: display graph of histogram\n",
    "    # TODO: better buckets for histogram (smart sub-dividing)\n",
    "        #sum the counts\n",
    "        #max of the counts\n",
    "        #if  > 25%\n",
    "    return bins,counts,total\n",
    "\n",
    "def bin_range_labels(bins):\n",
    "    return [\"%s-%s\" % (bins[i], bins[i + 1]) for i in range(len(bins) - 1)]"
   ]
  },
  {
   "cell_type": "code",
   "execution_count": 24,
   "metadata": {
    "collapsed": false
   },
   "outputs": [],
   "source": [
    "def get_column_num(data, col_num):\n",
    "    return data.map(lambda row: row[col_num])\n",
    "\n",
    "def column_filter_null(column):\n",
    "    return column.filter(lambda row: row is not None)\n",
    "\n",
    "def column_count(data):\n",
    "    return len(data.take(1)[0])\n",
    "\n",
    "def is_integer_col_num(col_num):\n",
    "    return col_num > 1 and col_num < 15\n",
    "\n",
    "def is_label_col_num(col_num):\n",
    "    return col_num == 1\n",
    "\n",
    "def is_categorical_col_num(col_num):\n",
    "    return col_num > 15\n",
    "\n",
    "def column_iter(data):\n",
    "    for i in range(column_count(data)):\n",
    "         yield get_column_num(data, i)"
   ]
  },
  {
   "cell_type": "code",
   "execution_count": 112,
   "metadata": {
    "collapsed": true
   },
   "outputs": [],
   "source": [
    "def int_columns_histograms(data):\n",
    "    x=[]; y=[]; z = [];\n",
    "    for i, col in enumerate(column_iter(debug)):\n",
    "        col_num = i + 1\n",
    "        if is_integer_col_num(col_num):\n",
    "            x1,y1,z1 = int_column_histogram(col_num, col)\n",
    "            x.append(x1)\n",
    "            y.append(y1)\n",
    "            z.append(z1)\n",
    "            \n",
    "    return x,y,z\n",
    "def cat_columns_histogram(data):\n",
    "    for i, col in enumerate(column_iter(debug)):\n",
    "        col_num = i + 1\n",
    "        if is_categorical_col_num(col_num):\n",
    "            key_counts = col.map(lambda key: (key, 1)).reduceByKey(add)\n",
    "            sorted_counts = sorted(key_counts.collect(), key=lambda t: t[1], reverse=True)\n",
    "            labels = [v[0] for v in sorted_counts]\n",
    "            counts = [v[1] for v in sorted_counts]\n",
    "            # TODO: graph these counts\n",
    "            x = labels[:10]\n",
    "            y = counts[:10]\n",
    "            z = sum(counts[10:])\n",
    "            # TODO: truncate at something larger than 5\n",
    "            print labels[:10], counts[:10], \"Remaining\", sum(counts[10:]), \"Total\", sum(counts)\n",
    "            \n",
    "            return x,y,z"
   ]
  },
  {
   "cell_type": "code",
   "execution_count": 140,
   "metadata": {
    "collapsed": false
   },
   "outputs": [
    {
     "name": "stdout",
     "output_type": "stream",
     "text": [
      "Column 2 histogram\n",
      "\tBins=[0.0, 55.6, 111.2, 166.8, 222.4, 278.0, 333.6, 389.2, 444.8, 500.40000000000003, 556]\n",
      "\tCounts=[55236, 295, 34, 10, 5, 3, 2, 0, 1, 1] (total=55587)\n",
      "Column 3 histogram\n",
      "\tBins=[-2.0, 1850.4, 3702.8, 5555.200000000001, 7407.6, 9260.0, 11112.400000000001, 12964.800000000001, 14817.2, 16669.600000000002, 18522]\n",
      "\tCounts=[98530, 1397, 52, 12, 7, 0, 1, 0, 0, 1] (total=100000)\n",
      "Column 4 histogram\n",
      "\tBins=[0.0, 6553.5, 13107.0, 19660.5, 26214.0, 32767.5, 39321.0, 45874.5, 52428.0, 58981.5, 65535]\n",
      "\tCounts=[80863, 11, 1, 20, 0, 0, 0, 0, 1, 2] (total=80898)\n",
      "Column 5 histogram\n",
      "\tBins=[0.0, 41.7, 83.4, 125.10000000000001, 166.8, 208.5, 250.20000000000002, 291.90000000000003, 333.6, 375.3, 417]\n",
      "\tCounts=[79210, 1178, 44, 8, 12, 6, 5, 0, 0, 3] (total=80466)\n",
      "Column 6 histogram\n",
      "\tBins=[0.0, 174112.8, 348225.6, 522338.39999999997, 696451.2, 870564.0, 1044676.7999999999, 1218789.5999999999, 1392902.4, 1567015.2, 1741128]\n",
      "\tCounts=[93216, 1145, 491, 218, 88, 44, 19, 11, 5, 3] (total=95240)\n",
      "Column 7 histogram\n",
      "\tBins=[0, 1629, 3258, 4887, 6516, 8145, 9774, 11403, 13032, 14661, 16290]\n",
      "\tCounts=[74200, 536, 92, 36, 12, 10, 3, 1, 1, 2] (total=74893)\n",
      "Column 8 histogram\n",
      "\tBins=[0.0, 880.7, 1761.4, 2642.1000000000004, 3522.8, 4403.5, 5284.200000000001, 6164.900000000001, 7045.6, 7926.3, 8807]\n",
      "\tCounts=[95218, 51, 8, 2, 0, 0, 1, 0, 0, 1] (total=95281)\n",
      "Column 9 histogram\n",
      "\tBins=[0.0, 467.7, 935.4, 1403.1, 1870.8, 2338.5, 2806.2, 3273.9, 3741.6, 4209.3, 4677]\n",
      "\tCounts=[99864, 11, 0, 0, 4, 4, 3, 1, 3, 3] (total=99893)\n",
      "Column 10 histogram\n",
      "\tBins=[0.0, 1266.1, 2532.2, 3798.2999999999997, 5064.4, 6330.5, 7596.599999999999, 8862.699999999999, 10128.8, 11394.9, 12661]\n",
      "\tCounts=[94344, 735, 144, 30, 12, 13, 1, 1, 0, 1] (total=95281)\n",
      "Column 11 histogram\n",
      "\tBins=[0.0, 0.6, 1.2, 1.7999999999999998, 2.4, 3.0, 3.5999999999999996, 4.2, 4.8, 5.3999999999999995, 6]\n",
      "\tCounts=[26171, 25277, 0, 3409, 0, 580, 119, 0, 27, 4] (total=55587)\n",
      "Column 12 histogram\n",
      "\tBins=[0.0, 10.4, 20.8, 31.200000000000003, 41.6, 52.0, 62.400000000000006, 72.8, 83.2, 93.60000000000001, 104]\n",
      "\tCounts=[91416, 2696, 765, 203, 82, 68, 26, 15, 4, 6] (total=95281)\n",
      "Column 13 histogram\n",
      "\tBins=[0.0, 49.3, 98.6, 147.89999999999998, 197.2, 246.5, 295.79999999999995, 345.09999999999997, 394.4, 443.7, 493]\n",
      "\tCounts=[22793, 21, 3, 2, 0, 0, 0, 0, 0, 1] (total=22820)\n",
      "Column 14 histogram\n",
      "\tBins=[0.0, 655.8, 1311.6, 1967.3999999999999, 2623.2, 3279.0, 3934.7999999999997, 4590.599999999999, 5246.4, 5902.2, 6558]\n",
      "\tCounts=[80441, 6, 5, 5, 3, 2, 3, 0, 0, 1] (total=80466)\n"
     ]
    },
    {
     "data": {
      "image/png": "[encoded data removed]",
      "text/plain": [
       "<matplotlib.figure.Figure at 0x10d7f8d10>"
      ]
     },
     "metadata": {},
     "output_type": "display_data"
    }
   ],
   "source": [
    "x=[];y=[];z=[]\n",
    "x,y,z = int_columns_histograms(debug)\n",
    "\n",
    "# Append \"Other values not in top 10 count\"\n",
    "for i in range(len(z)):\n",
    "    y[i].append(100000-z[i])\n",
    "\n",
    "column_numb = 10 #This number must be set. \n",
    "plt.title('Integer Feature %s Histogram' % (column_numb))\n",
    "plt.ylabel('Count of values')\n",
    "plt.xlabel('Bins of Integer values')\n",
    "x1 = np.array([0,1,2,3,4,5,6,7,8,9,10])\n",
    "x2 = []\n",
    "\n",
    "\n",
    "x2 = bin_range_labels(x[column_numb])\n",
    "x2.append('Other')\n",
    "\n",
    "plt.xticks(x1, x2,rotation=45)\n",
    "plt.bar(x1, y[column_numb])\n",
    "plt.show()\n"
   ]
  },
  {
   "cell_type": "code",
   "execution_count": 101,
   "metadata": {
    "collapsed": false,
    "scrolled": true
   },
   "outputs": [
    {
     "data": {
      "image/png": "[encoded data removed]",
      "text/plain": [
       "<matplotlib.figure.Figure at 0x10d42a510>"
      ]
     },
     "metadata": {},
     "output_type": "display_data"
    },
    {
     "name": "stdout",
     "output_type": "stream",
     "text": [
      "56826\n"
     ]
    }
   ],
   "source": [
    "#int_columns_histograms(debug)\n",
    "x,y,z = cat_columns_histogram(debug)\n",
    "\n",
    "\n",
    "# This represents the Histograms for Category Features. \n",
    "\n",
    "column_numb = 5 #This number must be set. \n",
    "plt.title('Category Feature %s Histogram' % (column_numb))\n",
    "plt.ylabel('Count of values')\n",
    "plt.xlabel('Category as a Hashed value')\n",
    "x1 = np.array([0,1,2,3,4,5,6,7,8,9,10])\n",
    "x2 = []\n",
    "for i in x: \n",
    "    x2.append(str(i))\n",
    "    \n",
    "x2.append('Other')\n",
    "y.append(z)\n",
    "plt.xticks(x1, x2,rotation=45)\n",
    "plt.bar(x1, y)\n",
    "plt.show()\n"
   ]
  },
  {
   "cell_type": "code",
   "execution_count": 74,
   "metadata": {
    "collapsed": false
   },
   "outputs": [
    {
     "name": "stdout",
     "output_type": "stream",
     "text": [
      "['38a947a1', '09e68b86', '80e26c9b', '38d50e09', '287130e0', '4f25e98b', '1cfdf714', '207b2d81', '08d6d899', 'd833535f']\n"
     ]
    }
   ],
   "source": []
  },
  {
   "cell_type": "code",
   "execution_count": 27,
   "metadata": {
    "collapsed": false,
    "scrolled": true
   },
   "outputs": [
    {
     "name": "stdout",
     "output_type": "stream",
     "text": [
      "[u'38a947a1', u'09e68b86', u'80e26c9b', u'38d50e09', u'287130e0', u'4f25e98b', u'1cfdf714', u'207b2d81', u'08d6d899', u'd833535f'] [12895, 6826, 4043, 3724, 3269, 3268, 2903, 2366, 1988, 1892] Remaining 56826 Total 100000\n",
      "[None, u'd032c263', u'b00d1501', u'02cf9876', u'aa8c1539', u'77f2f2e5', u'74e1a23a', u'9143c832', u'2cbec47f', u'ad4b77ff'] [3935, 3703, 1900, 1707, 1579, 1571, 1058, 972, 900, 855] Remaining 81820 Total 100000\n",
      "[u'c18be181', u'd16679b9', None, u'85dd697c', u'13508380', u'f922efad', u'9a6888fb', u'f56b7dd5', u'3e2bfbda', u'29998ed1'] [5410, 4380, 3935, 3235, 2330, 1487, 1058, 972, 908, 895] Remaining 75390 Total 100000\n",
      "[u'25c83c98', u'4cf72387', u'43b19349', u'384874ce', u'30903e74', u'0942e0a7', u'f281d2a7', u'b0530c50', u'b2241560', u'f3474129'] [67056, 15783, 6228, 3224, 1990, 1313, 874, 560, 483, 374] Remaining 2115 Total 100000\n",
      "[u'7e0ccccf', u'fbad5c96', None, u'fe6b92e5', u'13718bbd', u'6f6d9be8', u'3bf701e7', u'e3520422', u'f1f2de2d', u'c05778d5'] [46438, 19331, 13708, 11495, 3802, 3460, 1728, 16, 9, 6] Remaining 7 Total 100000\n",
      "[u'3f4ec687', u'49b74ebc', u'7195046d', u'970f01b2', u'88002ee1', u'9b98e9fc', u'38eb9cf4', u'd2d741ca', u'81bb0302', u'dc7659bd'] [957, 902, 776, 772, 639, 633, 585, 581, 541, 534] Remaining 93080 Total 100000\n",
      "[u'0b153874', u'5b392875', u'1f89b562', u'37e4aa92', u'062b5529', u'51d76abe', u'c8ddd494', u'64523cfa', u'6c41e35e', u'985e3fcb'] [59264, 16689, 7485, 4234, 2638, 1774, 1258, 979, 709, 628] Remaining 4342 Total 100000\n",
      "[u'a73ee510', u'7cc72ec2', u'a18233ea'] [88523, 11445, 32] Remaining 0 Total 100000\n",
      "[u'3b08e48b', u'fbbf2c95', u'efea433b', u'6c47047a', u'0e9ead52', u'fa7d0797', u'5ba575e7', u'5162b19c', u'451bd4e4', u'7f79890b'] [26595, 887, 824, 764, 749, 705, 565, 483, 446, 426] Remaining 67556 Total 100000\n",
      "[u'c4adf918', u'7f8ffe57', u'e51ddf94', u'4d8549da', u'f25fe7e9', u'755e4a50', u'36bccca0', u'b7094596', u'5874c9c9', u'a7b606c4'] [2118, 1539, 1196, 1157, 932, 822, 771, 761, 745, 721] Remaining 89238 Total 100000\n",
      "[None, u'dfbb09fb', u'e0d76380', u'8fe001f4', u'd8c29807', u'9f32b866', u'fb8fab62', u'ae1bb660', u'21a23bfe', u'6aaba33c'] [3935, 3703, 1900, 1707, 1579, 1571, 1058, 972, 900, 895] Remaining 81780 Total 100000\n",
      "[u'85dbe138', u'46f42a63', u'3516f6e6', u'51b97b8f', u'80467802', u'6e5da64f', u'ebd756bd', u'740c210d', u'dd183b4c', u'5978055e'] [2327, 1669, 1327, 1157, 1111, 1093, 1067, 1009, 932, 822] Remaining 87486 Total 100000\n",
      "[u'07d13a8f', u'b28479f6', u'1adce6ef', u'64c94865', u'cfef1c29', u'8ceecbc8', u'051219e6', u'f862f261', u'f7c1b33f', u'd2dfe871'] [36315, 34577, 15964, 3553, 2268, 1830, 1717, 1260, 617, 538] Remaining 1361 Total 100000\n",
      "[u'36721ddc', u'52baadf5', u'42b3012c', u'10040656', u'dbc5e126', u'd345b1a0', u'0f942372', u'9efd8b77', u'f3635baf', u'd2f03b75'] [2054, 1526, 976, 972, 930, 881, 804, 777, 755, 733] Remaining 89592 Total 100000\n",
      "[None, u'84898b2a', u'1203a270', u'36103458', u'31ca40b6', u'c64d548f', u'c6b1e1b2', u'bad5ee18', u'587267a3', u'b041b04a'] [3935, 3703, 1900, 1707, 1587, 1579, 1058, 972, 900, 895] Remaining 81764 Total 100000\n",
      "[u'e5ba7672', u'07c540c4', u'd4bb7bd8', u'3486227d', u'776ce399', u'2005abd1', u'1e88c74f', u'27c07bd6', u'8efede7f', u'af5d780c'] [42705, 13033, 12639, 7548, 6418, 4760, 4559, 4199, 4138, 1] Remaining 0 Total 100000\n",
      "[u'5aed7436', u'891589e7', u'e88ffc9d', u'582152eb', u'7ef5affa', u'c21c3e4c', u'1f868fdd', u'005c6740', u'f54016b9', u'bd17c3da'] [5348, 2879, 2590, 2156, 2133, 1757, 1735, 1735, 1731, 1570] Remaining 76366 Total 100000\n",
      "[None, u'21ddcdc9', u'55dd3565', u'cf99e5de', u'9437f62f', u'1d1eb838', u'5b885066', u'712d530c', u'1d04f4a4', u'9653bb65'] [41471, 34151, 2385, 1215, 904, 597, 489, 443, 417, 363] Remaining 17565 Total 100000\n",
      "[None, u'5840adea', u'a458ea53', u'b1252a9d'] [41471, 21517, 18983, 18029] Remaining 0 Total 100000\n",
      "[None, u'0014c32a', u'73d06dde', u'e587c466', u'5f957280', u'dfcfc3fa', u'99c09e97', u'0429f84b', u'c2a93b37', u'723b4dfd'] [3935, 3703, 1900, 1707, 1579, 1571, 1058, 972, 900, 895] Remaining 81780 Total 100000\n",
      "[None, u'ad3062eb', u'c9d4222a', u'8ec974f4', u'78e2e389', u'c0061c6d', u'8651fddb', u'ccfd4002', u'49e825c5', u'28f45308'] [81566, 9640, 7023, 751, 582, 402, 13, 11, 7, 3] Remaining 2 Total 100000\n",
      "[u'32c7478e', u'3a171ecb', u'423fab69', u'be7c41b4', u'bcdee96c', u'c7dc6720', u'55dd3565', u'dbb486d7', u'93bad2c0', u'c3dc6cef'] [43970, 19944, 11383, 7079, 6835, 4522, 3029, 1396, 988, 385] Remaining 469 Total 100000\n",
      "[u'1793a828', u'3fdb382b', u'3b183c5c', u'aee52b6f', None, u'b34f3128', u'45ab94c8', u'9117a34a', u'335a6a1e', u'c0d61a5c'] [6941, 6504, 5991, 4519, 3935, 3441, 2851, 1479, 1075, 972] Remaining 62292 Total 100000\n",
      "[None, u'e8b83407', u'001f3601', u'ea9a246c', u'010f6491', u'cb079c2d', u'9b3e8820', u'2bf691b1', u'445bbe3b', u'f0f449dd'] [41471, 18487, 11451, 5976, 3806, 3291, 2900, 2209, 1768, 1494] Remaining 7147 Total 100000\n",
      "[None, u'49d68486', u'c84c4aec', u'2fede552', u'984e0db0', u'b7d9c3bc', u'aa5f0a15', u'c27f155b', u'9904c656', u'b9809574'] [41471, 5046, 2330, 1574, 1523, 1299, 1271, 944, 883, 864] Remaining 42795 Total 100000\n"
     ]
    }
   ],
   "source": [
    "cat_columns_histogram(debug)"
   ]
  },
  {
   "cell_type": "code",
   "execution_count": 28,
   "metadata": {
    "collapsed": false
   },
   "outputs": [],
   "source": [
    "def print_column_summary(col_num, mean, stdev, var):\n",
    "    print(\"Column #%2d: Mean=%-10.3f Stdev=%-10.3f Variance=%-10.3f\" % (\n",
    "          col_num, mean, stdev, var))\n",
    "        \n",
    "\n",
    "def int_columns_basic_summary_stats(data):\n",
    "    for i, col in enumerate(column_iter(data)):\n",
    "        col_num = i + 1\n",
    "        if is_integer_col_num(col_num):\n",
    "            mean = column_filter_null(col).mean()\n",
    "            stdev = column_filter_null(col).sampleStdev()\n",
    "            var = column_filter_null(col).sampleVariance()\n",
    "            print_column_summary(col_num, mean, stdev, var)"
   ]
  },
  {
   "cell_type": "code",
   "execution_count": 29,
   "metadata": {
    "collapsed": false
   },
   "outputs": [
    {
     "name": "stdout",
     "output_type": "stream",
     "text": [
      "Column # 2: Mean=3.769      Stdev=10.451     Variance=109.228   \n",
      "Column # 3: Mean=112.864    Stdev=401.523    Variance=161220.427\n",
      "Column # 4: Mean=40.745     Stdev=538.819    Variance=290325.723\n",
      "Column # 5: Mean=8.280      Stdev=10.836     Variance=117.426   \n",
      "Column # 6: Mean=17592.599  Stdev=65797.898  Variance=4329363390.243\n",
      "Column # 7: Mean=139.685    Stdev=371.776    Variance=138217.462\n",
      "Column # 8: Mean=15.222     Stdev=65.460     Variance=4285.075  \n",
      "Column # 9: Mean=13.575     Stdev=46.542     Variance=2166.120  \n",
      "Column #10: Mean=125.295    Stdev=286.416    Variance=82033.945 \n",
      "Column #11: Mean=0.620      Stdev=0.677      Variance=0.458     \n",
      "Column #12: Mean=2.400      Stdev=4.630      Variance=21.436    \n",
      "Column #13: Mean=0.938      Stdev=5.328      Variance=28.384    \n",
      "Column #14: Mean=11.608     Stdev=52.045     Variance=2708.636  \n"
     ]
    }
   ],
   "source": [
    "int_columns_basic_summary_stats(debug)"
   ]
  },
  {
   "cell_type": "code",
   "execution_count": 30,
   "metadata": {
    "collapsed": true
   },
   "outputs": [],
   "source": [
    "def print_column_summary_details(col_num, kurtosis, skewness):\n",
    "    print(\"Column #%2d: Kurtosis=%-10.3f Skewness=%-10.3f\" % (col_num, kurtosis, skewness))\n",
    "\n",
    "def int_columns_detail_stats(data):\n",
    "    df = sqlContext.createDataFrame(data)\n",
    "    for i, col in enumerate(column_iter(data)):\n",
    "        col_num = i + 1\n",
    "        if is_integer_col_num(col_num):            \n",
    "            col = df[\"_%s\" % col_num]\n",
    "            k_col = sqlFunctions.kurtosis(col)\n",
    "            k_result = df.select(k_col.alias(\"kurtosis\")).collect()[0]\n",
    "            s_col = sqlFunctions.skewness(col)\n",
    "            s_result = df.select(s_col.alias(\"skewness\")).collect()[0]\n",
    "            print_column_summary_details(col_num, k_result.kurtosis, s_result.skewness)"
   ]
  },
  {
   "cell_type": "code",
   "execution_count": 31,
   "metadata": {
    "collapsed": false
   },
   "outputs": [
    {
     "name": "stdout",
     "output_type": "stream",
     "text": [
      "Column # 2: Kurtosis=373.759    Skewness=13.045    \n",
      "Column # 3: Kurtosis=100.708    Skewness=7.264     \n",
      "Column # 4: Kurtosis=7426.228   Skewness=74.676    \n",
      "Column # 5: Kurtosis=115.569    Skewness=5.891     \n",
      "Column # 6: Kurtosis=115.043    Skewness=9.146     \n",
      "Column # 7: Kurtosis=251.298    Skewness=11.409    \n",
      "Column # 8: Kurtosis=4233.619   Skewness=42.413    \n",
      "Column # 9: Kurtosis=5577.523   Skewness=68.854    \n",
      "Column #10: Kurtosis=163.166    Skewness=9.010     \n",
      "Column #11: Kurtosis=2.495      Skewness=1.125     \n",
      "Column #12: Kurtosis=66.442     Skewness=6.399     \n",
      "Column #13: Kurtosis=3362.307   Skewness=42.705    \n",
      "Column #14: Kurtosis=5899.185   Skewness=67.003    \n"
     ]
    }
   ],
   "source": [
    "int_columns_detail_stats(debug)"
   ]
  },
  {
   "cell_type": "code",
   "execution_count": 32,
   "metadata": {
    "collapsed": false
   },
   "outputs": [
    {
     "name": "stdout",
     "output_type": "stream",
     "text": [
      "Column 2 histogram\n",
      "\tBins=[0.0, 55.6, 111.2, 166.8, 222.4, 278.0, 333.6, 389.2, 444.8, 500.40000000000003, 556]\n",
      "\tCounts=[55236, 295, 34, 10, 5, 3, 2, 0, 1, 1] (total=55587)\n",
      "Column 3 histogram\n",
      "\tBins=[-2.0, 1850.4, 3702.8, 5555.200000000001, 7407.6, 9260.0, 11112.400000000001, 12964.800000000001, 14817.2, 16669.600000000002, 18522]\n",
      "\tCounts=[98530, 1397, 52, 12, 7, 0, 1, 0, 0, 1] (total=100000)\n",
      "Column 4 histogram\n",
      "\tBins=[0.0, 6553.5, 13107.0, 19660.5, 26214.0, 32767.5, 39321.0, 45874.5, 52428.0, 58981.5, 65535]\n",
      "\tCounts=[80863, 11, 1, 20, 0, 0, 0, 0, 1, 2] (total=80898)\n",
      "Column 5 histogram\n",
      "\tBins=[0.0, 41.7, 83.4, 125.10000000000001, 166.8, 208.5, 250.20000000000002, 291.90000000000003, 333.6, 375.3, 417]\n",
      "\tCounts=[79210, 1178, 44, 8, 12, 6, 5, 0, 0, 3] (total=80466)\n",
      "Column 6 histogram\n",
      "\tBins=[0.0, 174112.8, 348225.6, 522338.39999999997, 696451.2, 870564.0, 1044676.7999999999, 1218789.5999999999, 1392902.4, 1567015.2, 1741128]\n",
      "\tCounts=[93216, 1145, 491, 218, 88, 44, 19, 11, 5, 3] (total=95240)\n",
      "Column 7 histogram\n",
      "\tBins=[0, 1629, 3258, 4887, 6516, 8145, 9774, 11403, 13032, 14661, 16290]\n",
      "\tCounts=[74200, 536, 92, 36, 12, 10, 3, 1, 1, 2] (total=74893)\n",
      "Column 8 histogram\n",
      "\tBins=[0.0, 880.7, 1761.4, 2642.1000000000004, 3522.8, 4403.5, 5284.200000000001, 6164.900000000001, 7045.6, 7926.3, 8807]\n",
      "\tCounts=[95218, 51, 8, 2, 0, 0, 1, 0, 0, 1] (total=95281)\n",
      "Column 9 histogram\n",
      "\tBins=[0.0, 467.7, 935.4, 1403.1, 1870.8, 2338.5, 2806.2, 3273.9, 3741.6, 4209.3, 4677]\n",
      "\tCounts=[99864, 11, 0, 0, 4, 4, 3, 1, 3, 3] (total=99893)\n",
      "Column 10 histogram\n",
      "\tBins=[0.0, 1266.1, 2532.2, 3798.2999999999997, 5064.4, 6330.5, 7596.599999999999, 8862.699999999999, 10128.8, 11394.9, 12661]\n",
      "\tCounts=[94344, 735, 144, 30, 12, 13, 1, 1, 0, 1] (total=95281)\n",
      "Column 11 histogram\n",
      "\tBins=[0.0, 0.6, 1.2, 1.7999999999999998, 2.4, 3.0, 3.5999999999999996, 4.2, 4.8, 5.3999999999999995, 6]\n",
      "\tCounts=[26171, 25277, 0, 3409, 0, 580, 119, 0, 27, 4] (total=55587)\n",
      "Column 12 histogram\n",
      "\tBins=[0.0, 10.4, 20.8, 31.200000000000003, 41.6, 52.0, 62.400000000000006, 72.8, 83.2, 93.60000000000001, 104]\n",
      "\tCounts=[91416, 2696, 765, 203, 82, 68, 26, 15, 4, 6] (total=95281)\n",
      "Column 13 histogram\n",
      "\tBins=[0.0, 49.3, 98.6, 147.89999999999998, 197.2, 246.5, 295.79999999999995, 345.09999999999997, 394.4, 443.7, 493]\n",
      "\tCounts=[22793, 21, 3, 2, 0, 0, 0, 0, 0, 1] (total=22820)\n",
      "Column 14 histogram\n",
      "\tBins=[0.0, 655.8, 1311.6, 1967.3999999999999, 2623.2, 3279.0, 3934.7999999999997, 4590.599999999999, 5246.4, 5902.2, 6558]\n",
      "\tCounts=[80441, 6, 5, 5, 3, 2, 3, 0, 0, 1] (total=80466)\n"
     ]
    }
   ],
   "source": [
    "a = int_columns_histograms(debug)"
   ]
  },
  {
   "cell_type": "code",
   "execution_count": null,
   "metadata": {
    "collapsed": true
   },
   "outputs": [],
   "source": []
  },
  {
   "cell_type": "code",
   "execution_count": null,
   "metadata": {
    "collapsed": true
   },
   "outputs": [],
   "source": []
  }
 ],
 "metadata": {
  "kernelspec": {
   "display_name": "Python 2",
   "language": "python",
   "name": "python2"
  },
  "language_info": {
   "codemirror_mode": {
    "name": "ipython",
    "version": 2
   },
   "file_extension": ".py",
   "mimetype": "text/x-python",
   "name": "python",
   "nbconvert_exporter": "python",
   "pygments_lexer": "ipython2",
   "version": "2.7.10"
  }
 },
 "nbformat": 4,
 "nbformat_minor": 0
}
