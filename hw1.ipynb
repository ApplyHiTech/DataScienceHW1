{
 "cells": [
  {
   "cell_type": "code",
   "execution_count": 1,
   "metadata": {
    "collapsed": true
   },
   "outputs": [],
   "source": [
    "import findspark\n",
    "findspark.init()\n",
    "import pyspark\n",
    "sc = pyspark.SparkContext()"
   ]
  },
  {
   "cell_type": "code",
   "execution_count": 2,
   "metadata": {
    "collapsed": true
   },
   "outputs": [],
   "source": [
    "from pyspark.sql import SQLContext\n",
    "sqlContext = SQLContext(sc)"
   ]
  },
  {
   "cell_type": "code",
   "execution_count": 11,
   "metadata": {
    "collapsed": true
   },
   "outputs": [],
   "source": [
    "FILE_PATH = \"dac/small-train.txt\"\n",
    "lines = sc.textFile(FILE_PATH)"
   ]
  },
  {
   "cell_type": "code",
   "execution_count": 12,
   "metadata": {
    "collapsed": false
   },
   "outputs": [
    {
     "data": {
      "text/plain": [
       "[u'0\\t1\\t1\\t5\\t0\\t1382\\t4\\t15\\t2\\t181\\t1\\t2\\t\\t2\\t68fd1e64\\t80e26c9b\\tfb936136\\t7b4723c4\\t25c83c98\\t7e0ccccf\\tde7995b8\\t1f89b562\\ta73ee510\\ta8cd5504\\tb2cb9c98\\t37c9c164\\t2824a5f6\\t1adce6ef\\t8ba8b39a\\t891b62e7\\te5ba7672\\tf54016b9\\t21ddcdc9\\tb1252a9d\\t07b5194c\\t\\t3a171ecb\\tc5c50484\\te8b83407\\t9727dd16']"
      ]
     },
     "execution_count": 12,
     "metadata": {},
     "output_type": "execute_result"
    }
   ],
   "source": [
    "lines.take(1)"
   ]
  },
  {
   "cell_type": "code",
   "execution_count": 13,
   "metadata": {
    "collapsed": false
   },
   "outputs": [],
   "source": [
    "data = lines.map(lambda line: line.split(\"\\t\"))"
   ]
  },
  {
   "cell_type": "code",
   "execution_count": 14,
   "metadata": {
    "collapsed": false
   },
   "outputs": [
    {
     "data": {
      "text/plain": [
       "[[u'0',\n",
       "  u'1',\n",
       "  u'1',\n",
       "  u'5',\n",
       "  u'0',\n",
       "  u'1382',\n",
       "  u'4',\n",
       "  u'15',\n",
       "  u'2',\n",
       "  u'181',\n",
       "  u'1',\n",
       "  u'2',\n",
       "  u'',\n",
       "  u'2',\n",
       "  u'68fd1e64',\n",
       "  u'80e26c9b',\n",
       "  u'fb936136',\n",
       "  u'7b4723c4',\n",
       "  u'25c83c98',\n",
       "  u'7e0ccccf',\n",
       "  u'de7995b8',\n",
       "  u'1f89b562',\n",
       "  u'a73ee510',\n",
       "  u'a8cd5504',\n",
       "  u'b2cb9c98',\n",
       "  u'37c9c164',\n",
       "  u'2824a5f6',\n",
       "  u'1adce6ef',\n",
       "  u'8ba8b39a',\n",
       "  u'891b62e7',\n",
       "  u'e5ba7672',\n",
       "  u'f54016b9',\n",
       "  u'21ddcdc9',\n",
       "  u'b1252a9d',\n",
       "  u'07b5194c',\n",
       "  u'',\n",
       "  u'3a171ecb',\n",
       "  u'c5c50484',\n",
       "  u'e8b83407',\n",
       "  u'9727dd16']]"
      ]
     },
     "execution_count": 14,
     "metadata": {},
     "output_type": "execute_result"
    }
   ],
   "source": [
    "data.take(1)"
   ]
  },
  {
   "cell_type": "code",
   "execution_count": null,
   "metadata": {
    "collapsed": true
   },
   "outputs": [],
   "source": []
  }
 ],
 "metadata": {
  "kernelspec": {
   "display_name": "Python 2",
   "language": "python",
   "name": "python2"
  },
  "language_info": {
   "codemirror_mode": {
    "name": "ipython",
    "version": 2
   },
   "file_extension": ".py",
   "mimetype": "text/x-python",
   "name": "python",
   "nbconvert_exporter": "python",
   "pygments_lexer": "ipython2",
   "version": "2.7.10"
  }
 },
 "nbformat": 4,
 "nbformat_minor": 0
}
