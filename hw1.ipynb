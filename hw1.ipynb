{
 "cells": [
  {
   "cell_type": "code",
   "execution_count": 2,
   "metadata": {
    "collapsed": true
   },
   "outputs": [],
   "source": [
    "import findspark\n",
    "findspark.init()\n",
    "import pyspark\n",
    "sc = pyspark.SparkContext()"
   ]
  },
  {
   "cell_type": "code",
   "execution_count": 3,
   "metadata": {
    "collapsed": true
   },
   "outputs": [],
   "source": [
    "from pyspark.sql import SQLContext\n",
    "sqlContext = SQLContext(sc)"
   ]
  },
  {
   "cell_type": "code",
   "execution_count": 16,
   "metadata": {
    "collapsed": false
   },
   "outputs": [],
   "source": [
    "# Final test set split\n",
    "final_test = sc.textFile(\"dac/split/test.txt\")  # Do not touch during training\n",
    "\n",
    "# Training set splits\n",
    "test_3m = sc.textFile(\"dac/split/test_3m.txt\")\n",
    "train_5m = sc.textFile(\"dac/split/train_5m.txt\")\n",
    "validation_2m = sc.textFile(\"dac/split/train_5m.txt\")"
   ]
  },
  {
   "cell_type": "code",
   "execution_count": 17,
   "metadata": {
    "collapsed": false
   },
   "outputs": [],
   "source": [
    "def convert_value(index, value):\n",
    "    if index < 14:\n",
    "        return int(value) if value else None\n",
    "    else:\n",
    "        return value if value else None\n",
    "\n",
    "def convert_line(line):\n",
    "    return [convert_value(i, value) for i, value in enumerate(line.split(\"\\t\"))]\n",
    "\n",
    "# data = lines.map(convert_line)"
   ]
  },
  {
   "cell_type": "code",
   "execution_count": 20,
   "metadata": {
    "collapsed": false
   },
   "outputs": [
    {
     "data": {
      "text/plain": [
       "[u'0\\t\\t2\\t632\\t0\\t56770\\t\\t0\\t5\\t65\\t\\t0\\t\\t2\\t05db9164\\t0468d672\\t7ae80d0f\\t80d8555a\\t25c83c98\\t7e0ccccf\\t04277bf9\\t0b153874\\t7cc72ec2\\t3b08e48b\\t7e2c5c15\\tcfc86806\\t91a1b611\\tb28479f6\\t58251aab\\t146a70fd\\t776ce399\\t0b331314\\t21ddcdc9\\t5840adea\\tcbec39db\\t\\t3a171ecb\\tcedad179\\tea9a246c\\t9a556cfc']"
      ]
     },
     "execution_count": 20,
     "metadata": {},
     "output_type": "execute_result"
    }
   ],
   "source": [
    "test_3m.count()\n",
    "test_3m.take(1)"
   ]
  },
  {
   "cell_type": "code",
   "execution_count": 50,
   "metadata": {
    "collapsed": false
   },
   "outputs": [],
   "source": [
    "# data.map(lambda row: row[0]).histogram([0, 1, 2])"
   ]
  },
  {
   "cell_type": "code",
   "execution_count": 53,
   "metadata": {
    "collapsed": false
   },
   "outputs": [],
   "source": [
    "# data.map(lambda row: row[2]).histogram(10)"
   ]
  },
  {
   "cell_type": "code",
   "execution_count": 54,
   "metadata": {
    "collapsed": false
   },
   "outputs": [],
   "source": [
    "# a = data.map(lambda row: row[2]).histogram([-10,0,5,10,50,100,200,500,1000,2000,10000,50000])"
   ]
  },
  {
   "cell_type": "code",
   "execution_count": 21,
   "metadata": {
    "collapsed": false
   },
   "outputs": [],
   "source": [
    "def show_histogram(col_num, data):\n",
    "    bins, counts = data.map(lambda row: row[col_num]).histogram(10)\n",
    "    total = sum(counts)\n",
    "    print \"column #%d: bins=%s, counts=%s (total=%d)\" % (col_num, bins, counts, total)\n",
    "    #sum the counts\n",
    "    #max of the counts\n",
    "    #if  > 25%\n",
    "    \n",
    "# for i in range(1,14):\n",
    "#     show_histogram(i, data)"
   ]
  },
  {
   "cell_type": "code",
   "execution_count": null,
   "metadata": {
    "collapsed": false
   },
   "outputs": [],
   "source": []
  },
  {
   "cell_type": "code",
   "execution_count": null,
   "metadata": {
    "collapsed": true
   },
   "outputs": [],
   "source": []
  },
  {
   "cell_type": "code",
   "execution_count": null,
   "metadata": {
    "collapsed": true
   },
   "outputs": [],
   "source": []
  }
 ],
 "metadata": {
  "kernelspec": {
   "display_name": "Python 2",
   "language": "python",
   "name": "python2"
  },
  "language_info": {
   "codemirror_mode": {
    "name": "ipython",
    "version": 2
   },
   "file_extension": ".py",
   "mimetype": "text/x-python",
   "name": "python",
   "nbconvert_exporter": "python",
   "pygments_lexer": "ipython2",
   "version": "2.7.10"
  }
 },
 "nbformat": 4,
 "nbformat_minor": 0
}
